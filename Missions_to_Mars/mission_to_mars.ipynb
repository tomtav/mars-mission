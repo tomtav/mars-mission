{
 "cells": [
  {
   "cell_type": "code",
   "execution_count": null,
   "metadata": {},
   "outputs": [],
   "source": [
    "# import dependencies\n",
    "import os\n",
    "import requests\n",
    "import pandas as pd\n",
    "from time import sleep\n",
    "from bs4 import BeautifulSoup\n",
    "from splinter import Browser\n",
    "from splinter.exceptions import ElementDoesNotExist"
   ]
  },
  {
   "cell_type": "markdown",
   "metadata": {},
   "source": [
    "## Step 1: Scraping"
   ]
  },
  {
   "cell_type": "code",
   "execution_count": null,
   "metadata": {},
   "outputs": [],
   "source": [
    "# configure browser path\n",
    "executable_path = {'executable_path': '/usr/local/bin/chromedriver'}"
   ]
  },
  {
   "cell_type": "code",
   "execution_count": null,
   "metadata": {},
   "outputs": [],
   "source": [
    "### NASA Mars News\n",
    "browser = Browser('chrome', **executable_path, headless=True)\n",
    "\n",
    "# URL of page to be scraped\n",
    "url = 'https://mars.nasa.gov/news'\n",
    "\n",
    "# visit website\n",
    "browser.visit(url)\n",
    "\n",
    "# wait a few seconds for page to fully load\n",
    "sleep(10)\n",
    "\n",
    "# retrieve the latest news titles from the page\n",
    "latest_news_title = browser.find_by_css('.slide').first.find_by_css('.content_title').first.value\n",
    "\n",
    "# retrieve the latest news descriptions for the latest news titles from the page\n",
    "latest_news_caption = browser.find_by_css('.slide').first.find_by_css('.article_teaser_body').first.value\n",
    "\n",
    "# close browser\n",
    "browser.quit()"
   ]
  },
  {
   "cell_type": "code",
   "execution_count": null,
   "metadata": {},
   "outputs": [],
   "source": [
    "### JPL Mars Space Images\n",
    "browser = Browser('chrome', **executable_path, headless=True)\n",
    "\n",
    "# URL of page to be scraped\n",
    "url = 'https://www.jpl.nasa.gov/spaceimages/?search=&category=Mars'\n",
    "\n",
    "# visit website\n",
    "browser.visit(url)\n",
    "\n",
    "# click through to full image page\n",
    "browser.click_link_by_partial_text('FULL IMAGE')\n",
    "\n",
    "# click through to the details page\n",
    "browser.click_link_by_partial_text('more info')\n",
    "\n",
    "# retrieve \n",
    "featured_image_url = browser.links.find_by_partial_href('largesize').first['href']\n",
    "\n",
    "# close browser\n",
    "browser.quit()"
   ]
  },
  {
   "cell_type": "code",
   "execution_count": null,
   "metadata": {},
   "outputs": [],
   "source": [
    "### Mars Weather\n",
    "\n",
    "# URL of page to be scraped\n",
    "url = 'https://twitter.com/marswxreport?lang=en'\n",
    "\n",
    "# Retrieve page with the requests module\n",
    "response = requests.get(url)\n",
    "\n",
    "# parse the html retrieved\n",
    "soup = BeautifulSoup(response.text, 'html.parser')\n",
    "\n",
    "# retrieve the latest tweet\n",
    "mars_weather = soup.find('div', class_='tweet', attrs={ 'data-screen-name': 'MarsWxReport'}).find('p', 'tweet-text').text.replace('\\n', ' ').split('pic.twitter.com/')[0]\n"
   ]
  },
  {
   "cell_type": "code",
   "execution_count": null,
   "metadata": {
    "scrolled": true
   },
   "outputs": [],
   "source": [
    "### Mars Facts\n",
    "\n",
    "# URL of page to be scraped\n",
    "url = 'https://space-facts.com/mars/'\n",
    "\n",
    "# scrape any tabular data from the page and select the first table\n",
    "mars_facts = pd.read_html(url)[0]\n",
    "\n",
    "# rename columns and set index column\n",
    "mars_facts = mars_facts.rename(columns={0: 'Description', 1: 'Value'}).set_index('Description')\n",
    "\n",
    "# convert pandas dataframe to html table\n",
    "mars_facts_table = mars_facts.to_html().replace('\\n', '')"
   ]
  },
  {
   "cell_type": "code",
   "execution_count": null,
   "metadata": {},
   "outputs": [],
   "source": [
    "### Mars Hemispheres\n",
    "browser = Browser('chrome', **executable_path, headless=True)\n",
    "\n",
    "# URL of page to be scraped\n",
    "url = 'https://astrogeology.usgs.gov/search/results?q=hemisphere+enhanced&k1=target&v1=Mars'\n",
    "\n",
    "# visit main page\n",
    "browser.visit(url)\n",
    "\n",
    "# array to store hemisphere image urls\n",
    "hemisphere_image_urls = []\n",
    "\n",
    "# generate list of each hemisphere's detail page url\n",
    "links = [ item.find_by_tag('a').first['href'] for item in browser.find_by_css('.results').find_by_css('.description') ]\n",
    "\n",
    "# loop through each detail page by visiting each url\n",
    "try:\n",
    "    for link in links:\n",
    "        browser.visit(link)\n",
    "        title = browser.find_by_css('.title').first.text\n",
    "        img_url = browser.links.find_by_text('Original').first['href']\n",
    "        hemisphere_image_urls.append({ 'title': title.replace(' Enhanced', ''), 'img_url': img_url })\n",
    "        sleep(3)\n",
    "except ElementDoesNotExist:\n",
    "    print(\"hemispheres data scraping completed\")\n",
    "\n",
    "# close browser\n",
    "browser.quit()"
   ]
  },
  {
   "cell_type": "code",
   "execution_count": null,
   "metadata": {},
   "outputs": [],
   "source": [
    "# python dictionary of all scraped data\n",
    "mars_info = {\n",
    "    'news': {\n",
    "        'title': latest_news_title,\n",
    "        'caption': latest_news_caption\n",
    "    },\n",
    "    'featured_image_url': featured_image_url,\n",
    "    'weather': mars_weather,\n",
    "    'facts': mars_facts_table,\n",
    "    'hemispheres': hemisphere_image_urls\n",
    "}"
   ]
  },
  {
   "cell_type": "code",
   "execution_count": null,
   "metadata": {},
   "outputs": [],
   "source": [
    "mars_info"
   ]
  }
 ],
 "metadata": {
  "kernelspec": {
   "display_name": "Python 3",
   "language": "python",
   "name": "python3"
  },
  "language_info": {
   "codemirror_mode": {
    "name": "ipython",
    "version": 3
   },
   "file_extension": ".py",
   "mimetype": "text/x-python",
   "name": "python",
   "nbconvert_exporter": "python",
   "pygments_lexer": "ipython3",
   "version": "3.7.6"
  }
 },
 "nbformat": 4,
 "nbformat_minor": 4
}
